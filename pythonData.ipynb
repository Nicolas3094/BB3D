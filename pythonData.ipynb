{
 "cells": [
  {
   "cell_type": "code",
   "execution_count": 1,
   "metadata": {},
   "outputs": [],
   "source": [
    "import pandas as pd\n",
    "import numpy as np\n",
    "import matplotlib.pyplot as plt\n",
    "import scipy.stats as st"
   ]
  },
  {
   "cell_type": "code",
   "execution_count": 2,
   "metadata": {},
   "outputs": [],
   "source": [
    "def getMeanTimeData(problem, mutationType, algorithm, rotation):\n",
    "    data = np.squeeze(np.asarray(pd.read_csv(\"Results/\"+problem+\"/\"+mutationType+\"/\"+algorithm+\"/\"+rotation+\"/t.csv\",sep=\" \",header=None), dtype=np.int64))\n",
    "    return np.mean(data)\n",
    "def getMeanFitnessData(problem, mutationType, algorithm, rotation):\n",
    "    data = np.squeeze(np.asarray(pd.read_csv(\"Results/\"+problem+\"/\"+mutationType+\"/\"+algorithm+\"/\"+rotation+\"/\"+algorithm+\".csv\",sep=\" \",header=None), dtype=np.float32))\n",
    "    return np.mean(data)\n",
    "def getMeanTimePerProblemAndMutation(problem, mutation):\n",
    "    rotation = \"ZERO\"\n",
    "    timeGA =getMeanTimeData(problem, mutation, \"GA\", rotation),getMeanTimeData(problem, mutation, \"ABC\", rotation),getMeanTimeData(problem, mutation, \"FFA\", rotation)"
   ]
  },
  {
   "cell_type": "code",
   "execution_count": 3,
   "metadata": {},
   "outputs": [],
   "source": [
    "def printTimeProblem(problem):\n",
    "    mutation = \"InverseMutation\"\n",
    "    print(mutation)\n",
    "    rotation = \"ZERO\"\n",
    "    print(rotation,getMeanTimeData(problem, mutation, \"GA\", rotation),getMeanTimeData(problem, mutation, \"ABC\", rotation),getMeanTimeData(problem, mutation, \"FFA\", rotation))\n",
    "    rotation = \"TWO\"\n",
    "    print(rotation,getMeanTimeData(problem, mutation, \"GA\", rotation),getMeanTimeData(problem, mutation, \"ABC\", rotation),getMeanTimeData(problem, mutation, \"FFA\", rotation))\n",
    "    rotation = \"SIX\"\n",
    "    print(rotation,getMeanTimeData(problem, mutation, \"GA\", rotation),getMeanTimeData(problem, mutation, \"ABC\", rotation),getMeanTimeData(problem, mutation, \"FFA\", rotation))\n",
    "    mutation = \"C1Mutation\"\n",
    "    print(mutation)\n",
    "    rotation = \"ZERO\"\n",
    "    print(rotation,getMeanTimeData(problem, mutation, \"GA\", rotation),getMeanTimeData(problem, mutation, \"ABC\", rotation),getMeanTimeData(problem, mutation, \"FFA\", rotation))\n",
    "    rotation = \"TWO\"\n",
    "    print(rotation,getMeanTimeData(problem, mutation, \"GA\", rotation),getMeanTimeData(problem, mutation, \"ABC\", rotation),getMeanTimeData(problem, mutation, \"FFA\", rotation))\n",
    "    rotation = \"SIX\"\n",
    "    print(rotation,getMeanTimeData(problem, mutation, \"GA\", rotation),getMeanTimeData(problem, mutation, \"ABC\", rotation),getMeanTimeData(problem, mutation, \"FFA\", rotation))\n",
    "    mutation = \"C2Mutation\"\n",
    "    print(mutation)\n",
    "    rotation = \"ZERO\"\n",
    "    print(rotation,getMeanTimeData(problem, mutation, \"GA\", rotation),getMeanTimeData(problem, mutation, \"ABC\", rotation),getMeanTimeData(problem, mutation, \"FFA\", rotation))\n",
    "    rotation = \"TWO\"\n",
    "    print(rotation,getMeanTimeData(problem, mutation, \"GA\", rotation),getMeanTimeData(problem, mutation, \"ABC\", rotation),getMeanTimeData(problem, mutation, \"FFA\", rotation))\n",
    "    rotation = \"SIX\"\n",
    "    print(rotation,getMeanTimeData(problem, mutation, \"GA\", rotation),getMeanTimeData(problem, mutation, \"ABC\", rotation),getMeanTimeData(problem, mutation, \"FFA\", rotation))\n",
    "\n",
    "def printFitnessByProblem(problem):\n",
    "    mutation = \"InverseMutation\"\n",
    "    print(mutation)\n",
    "    rotation = \"ZERO\"\n",
    "    print(rotation,getMeanFitnessData(problem, mutation, \"GA\", rotation),getMeanFitnessData(problem, mutation, \"ABC\", rotation),getMeanFitnessData(problem, mutation, \"FFA\", rotation))\n",
    "    rotation = \"TWO\"\n",
    "    print(rotation,getMeanFitnessData(problem, mutation, \"GA\", rotation),getMeanFitnessData(problem, mutation, \"ABC\", rotation),getMeanFitnessData(problem, mutation, \"FFA\", rotation))\n",
    "    rotation = \"SIX\"\n",
    "    print(rotation,getMeanFitnessData(problem, mutation, \"GA\", rotation),getMeanFitnessData(problem, mutation, \"ABC\", rotation),getMeanFitnessData(problem, mutation, \"FFA\", rotation))\n",
    "    mutation = \"C1Mutation\"\n",
    "    print(mutation)\n",
    "    rotation = \"ZERO\"\n",
    "    print(rotation,getMeanFitnessData(problem, mutation, \"GA\", rotation),getMeanFitnessData(problem, mutation, \"ABC\", rotation),getMeanFitnessData(problem, mutation, \"FFA\", rotation))\n",
    "    rotation = \"TWO\"\n",
    "    print(rotation,getMeanFitnessData(problem, mutation, \"GA\", rotation),getMeanFitnessData(problem, mutation, \"ABC\", rotation),getMeanFitnessData(problem, mutation, \"FFA\", rotation))\n",
    "    rotation = \"SIX\"\n",
    "    print(rotation,getMeanFitnessData(problem, mutation, \"GA\", rotation),getMeanFitnessData(problem, mutation, \"ABC\", rotation),getMeanFitnessData(problem, mutation, \"FFA\", rotation))\n",
    "    mutation = \"C2Mutation\"\n",
    "    print(mutation)\n",
    "    rotation = \"ZERO\"\n",
    "    print(rotation,getMeanFitnessData(problem, mutation, \"GA\", rotation),getMeanFitnessData(problem, mutation, \"ABC\", rotation),getMeanFitnessData(problem, mutation, \"FFA\", rotation))\n",
    "    rotation = \"TWO\"\n",
    "    print(rotation,getMeanFitnessData(problem, mutation, \"GA\", rotation),getMeanFitnessData(problem, mutation, \"ABC\", rotation),getMeanFitnessData(problem, mutation, \"FFA\", rotation))\n",
    "    rotation = \"SIX\"\n",
    "    print(rotation,getMeanFitnessData(problem, mutation, \"GA\", rotation),getMeanFitnessData(problem, mutation, \"ABC\", rotation),getMeanFitnessData(problem, mutation, \"FFA\", rotation))"
   ]
  },
  {
   "cell_type": "code",
   "execution_count": 4,
   "metadata": {},
   "outputs": [
    {
     "name": "stdout",
     "output_type": "stream",
     "text": [
      "InverseMutation\n",
      "ZERO 199.32 32.56 318.88\n",
      "TWO 2996.03 1515.46 3070.02\n",
      "SIX 3881.22 5208.89 6659.43\n",
      "C1Mutation\n",
      "ZERO 508.44 1374.52 4516.46\n",
      "TWO 4559.02 4098.53 5204.42\n",
      "SIX 5161.39 5952.07 7189.05\n",
      "C2Mutation\n",
      "ZERO 288.68 47.56 53.93\n",
      "TWO 3532.42 1901.01 2826.52\n",
      "SIX 4055.29 5624.98 6907.08\n",
      "-----------------\n",
      "InverseMutation\n",
      "ZERO 0.99912125 0.84 0.999675\n",
      "TWO 0.9734751 0.9992799 0.99706244\n",
      "SIX 0.9210563 0.9810126 0.9702976\n",
      "C1Mutation\n",
      "ZERO 0.99906 0.99913126 0.96883863\n",
      "TWO 0.9750476 0.99045503 0.98476374\n",
      "SIX 0.9220924 0.9680263 0.9640862\n",
      "C2Mutation\n",
      "ZERO 0.99944496 1.0 1.0\n",
      "TWO 0.9777376 0.999015 0.9993325\n",
      "SIX 0.9257951 0.98017997 0.9737725\n"
     ]
    }
   ],
   "source": [
    "printTimeProblem(\"P1A2\")\n",
    "print(\"-----------------\")\n",
    "printFitnessByProblem(\"P1A2\")"
   ]
  },
  {
   "cell_type": "code",
   "execution_count": 5,
   "metadata": {},
   "outputs": [
    {
     "name": "stdout",
     "output_type": "stream",
     "text": [
      "InverseMutation\n",
      "ZERO 7634.7 11155.83 12623.27\n",
      "TWO 10255.36 15850.51 17922.19\n",
      "SIX 11786.78 15839.5 17782.68\n",
      "C1Mutation\n",
      "ZERO 8003.56 16937.77 18209.16\n",
      "TWO 10425.94 16103.47 18749.43\n",
      "SIX 13266.63 16911.97 20749.21\n",
      "C2Mutation\n",
      "ZERO 7731.26 5137.07 6671.96\n",
      "TWO 10764.11 17232.13 19626.68\n",
      "SIX 11599.43 18241.59 19863.12\n",
      "-----------------\n",
      "InverseMutation\n",
      "ZERO 0.99302536 0.9941976 0.9946788\n",
      "TWO 0.9519234 0.98163015 0.9807169\n",
      "SIX 0.901246 0.9506848 0.9445014\n",
      "C1Mutation\n",
      "ZERO 0.9903911 0.97628975 0.92769885\n",
      "TWO 0.9491539 0.9673051 0.9577167\n",
      "SIX 0.8919327 0.9509808 0.93160737\n",
      "C2Mutation\n",
      "ZERO 0.991018 0.9991989 0.9988629\n",
      "TWO 0.9537192 0.9855362 0.98566365\n",
      "SIX 0.89634204 0.95767343 0.9485666\n"
     ]
    }
   ],
   "source": [
    "printTimeProblem(\"P2A2\")\n",
    "print(\"-----------------\")\n",
    "printFitnessByProblem(\"P2A2\")"
   ]
  },
  {
   "cell_type": "code",
   "execution_count": 6,
   "metadata": {},
   "outputs": [
    {
     "name": "stdout",
     "output_type": "stream",
     "text": [
      "InverseMutation\n",
      "ZERO 68878.4 101664.8 105738.73\n",
      "TWO 68565.34 103768.35 108176.62\n",
      "SIX 77266.9 106473.01 111827.83\n",
      "C1Mutation\n",
      "ZERO 66547.26 102835.35 106371.32\n",
      "TWO 66018.53 100904.11 103781.79\n",
      "SIX 75896.95 102215.62 110951.86\n",
      "C2Mutation\n",
      "ZERO 67470.12 104847.38 107166.76\n",
      "TWO 70752.62 96368.54 99545.32\n",
      "SIX 76893.47 99236.25 103341.87\n",
      "-----------------\n",
      "InverseMutation\n",
      "ZERO 0.97184175 0.97673255 0.97257864\n",
      "TWO 0.9291268 0.95610803 0.9467452\n",
      "SIX 0.8697082 0.9198873 0.90935946\n",
      "C1Mutation\n",
      "ZERO 0.97363627 0.9630172 0.9537353\n",
      "TWO 0.92076075 0.937799 0.9295832\n",
      "SIX 0.86341286 0.91777426 0.9188553\n",
      "C2Mutation\n",
      "ZERO 0.9738536 0.9840216 0.98179275\n",
      "TWO 0.92866004 0.956425 0.957294\n",
      "SIX 0.87528235 0.92204684 0.91523033\n"
     ]
    }
   ],
   "source": [
    "printTimeProblem(\"P3A2\")\n",
    "print(\"-----------------\")\n",
    "printFitnessByProblem(\"P3A2\")"
   ]
  },
  {
   "cell_type": "code",
   "execution_count": 8,
   "metadata": {},
   "outputs": [
    {
     "name": "stdout",
     "output_type": "stream",
     "text": [
      "InverseMutation\n",
      "ZERO 625851.6 634469.78 643391.35\n",
      "TWO 622323.55 637727.48 644954.76\n",
      "SIX 621010.19 636862.96 646539.17\n",
      "C1Mutation\n",
      "ZERO 642524.3 650119.45 649649.28\n",
      "TWO 640279.33 655398.4 648299.63\n",
      "SIX 642050.42 653197.61 648136.9\n",
      "C2Mutation\n",
      "ZERO 627751.59 634799.36 642406.43\n",
      "TWO 628251.77 636273.25 643157.73\n",
      "SIX 626367.61 636133.25 643248.8\n",
      "-----------------\n",
      "InverseMutation\n",
      "ZERO 0.9595381 0.9516258 0.9482441\n",
      "TWO 0.9569215 0.95032585 0.9494468\n",
      "SIX 0.9565661 0.95151705 0.9493642\n",
      "C1Mutation\n",
      "ZERO 0.9592906 0.89843035 0.8672276\n",
      "TWO 0.9590964 0.8978682 0.86806023\n",
      "SIX 0.9562052 0.8990909 0.8666403\n",
      "C2Mutation\n",
      "ZERO 0.95919573 0.95828736 0.9525343\n",
      "TWO 0.9573637 0.958638 0.95228803\n",
      "SIX 0.9577817 0.96104485 0.9516132\n"
     ]
    }
   ],
   "source": [
    "printTimeProblem(\"P4A2\")\n",
    "print(\"-----------------\")\n",
    "printFitnessByProblem(\"P4A2\")"
   ]
  },
  {
   "cell_type": "code",
   "execution_count": null,
   "metadata": {},
   "outputs": [],
   "source": []
  }
 ],
 "metadata": {
  "kernelspec": {
   "display_name": "Python 3.9.12 ('base')",
   "language": "python",
   "name": "python3"
  },
  "language_info": {
   "codemirror_mode": {
    "name": "ipython",
    "version": 3
   },
   "file_extension": ".py",
   "mimetype": "text/x-python",
   "name": "python",
   "nbconvert_exporter": "python",
   "pygments_lexer": "ipython3",
   "version": "3.10.9"
  },
  "vscode": {
   "interpreter": {
    "hash": "c9548d78abac3d9c949fbd3fd187a460132993a1944635464947e6b8db26d483"
   }
  }
 },
 "nbformat": 4,
 "nbformat_minor": 2
}
