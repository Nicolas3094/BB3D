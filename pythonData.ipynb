{
 "cells": [
  {
   "cell_type": "code",
   "execution_count": 2,
   "metadata": {},
   "outputs": [],
   "source": [
    "import pandas as pd\n",
    "import numpy as np\n",
    "import matplotlib.pyplot as plt\n",
    "import scipy.stats as st"
   ]
  },
  {
   "cell_type": "code",
   "execution_count": 3,
   "metadata": {},
   "outputs": [],
   "source": [
    "def getMeanTimeData(problem, mutationType, algorithm, rotation):\n",
    "    data = np.squeeze(np.asarray(pd.read_csv(\"Results/\"+problem+\"/\"+mutationType+\"/\"+algorithm+\"/\"+rotation+\"/t.csv\",sep=\" \",header=None), dtype=np.int64))\n",
    "    return np.mean(data)\n",
    "def getMeanFitnessData(problem, mutationType, algorithm, rotation):\n",
    "    data = np.squeeze(np.asarray(pd.read_csv(\"Results/\"+problem+\"/\"+mutationType+\"/\"+algorithm+\"/\"+rotation+\"/\"+algorithm+\".csv\",sep=\" \",header=None), dtype=np.float32))\n",
    "    return np.mean(data)\n",
    "def getMeanTimePerProblemAndMutation(problem, mutation):\n",
    "    rotation = \"ZERO\"\n",
    "    timeGA =getMeanTimeData(problem, mutation, \"GA\", rotation),getMeanTimeData(problem, mutation, \"ABC\", rotation),getMeanTimeData(problem, mutation, \"FFA\", rotation)"
   ]
  },
  {
   "cell_type": "code",
   "execution_count": 4,
   "metadata": {},
   "outputs": [],
   "source": [
    "def printTimeProblem(problem):\n",
    "    mutation = \"InverseMutation\"\n",
    "    print(mutation)\n",
    "    rotation = \"ZERO\"\n",
    "    print(rotation,getMeanTimeData(problem, mutation, \"GA\", rotation),getMeanTimeData(problem, mutation, \"ABC\", rotation),getMeanTimeData(problem, mutation, \"FFA\", rotation))\n",
    "    rotation = \"TWO\"\n",
    "    print(rotation,getMeanTimeData(problem, mutation, \"GA\", rotation),getMeanTimeData(problem, mutation, \"ABC\", rotation),getMeanTimeData(problem, mutation, \"FFA\", rotation))\n",
    "    rotation = \"SIX\"\n",
    "    print(rotation,getMeanTimeData(problem, mutation, \"GA\", rotation),getMeanTimeData(problem, mutation, \"ABC\", rotation),getMeanTimeData(problem, mutation, \"FFA\", rotation))\n",
    "    mutation = \"C1Mutation\"\n",
    "    print(mutation)\n",
    "    rotation = \"ZERO\"\n",
    "    print(rotation,getMeanTimeData(problem, mutation, \"GA\", rotation),getMeanTimeData(problem, mutation, \"ABC\", rotation),getMeanTimeData(problem, mutation, \"FFA\", rotation))\n",
    "    rotation = \"TWO\"\n",
    "    print(rotation,getMeanTimeData(problem, mutation, \"GA\", rotation),getMeanTimeData(problem, mutation, \"ABC\", rotation),getMeanTimeData(problem, mutation, \"FFA\", rotation))\n",
    "    rotation = \"SIX\"\n",
    "    print(rotation,getMeanTimeData(problem, mutation, \"GA\", rotation),getMeanTimeData(problem, mutation, \"ABC\", rotation),getMeanTimeData(problem, mutation, \"FFA\", rotation))\n",
    "    mutation = \"C2Mutation\"\n",
    "    print(mutation)\n",
    "    rotation = \"ZERO\"\n",
    "    print(rotation,getMeanTimeData(problem, mutation, \"GA\", rotation),getMeanTimeData(problem, mutation, \"ABC\", rotation),getMeanTimeData(problem, mutation, \"FFA\", rotation))\n",
    "    rotation = \"TWO\"\n",
    "    print(rotation,getMeanTimeData(problem, mutation, \"GA\", rotation),getMeanTimeData(problem, mutation, \"ABC\", rotation),getMeanTimeData(problem, mutation, \"FFA\", rotation))\n",
    "    rotation = \"SIX\"\n",
    "    print(rotation,getMeanTimeData(problem, mutation, \"GA\", rotation),getMeanTimeData(problem, mutation, \"ABC\", rotation),getMeanTimeData(problem, mutation, \"FFA\", rotation))\n",
    "\n",
    "def printFitnessByProblem(problem):\n",
    "    mutation = \"InverseMutation\"\n",
    "    print(mutation)\n",
    "    rotation = \"ZERO\"\n",
    "    print(rotation,getMeanFitnessData(problem, mutation, \"GA\", rotation),getMeanFitnessData(problem, mutation, \"ABC\", rotation),getMeanFitnessData(problem, mutation, \"FFA\", rotation))\n",
    "    rotation = \"TWO\"\n",
    "    print(rotation,getMeanFitnessData(problem, mutation, \"GA\", rotation),getMeanFitnessData(problem, mutation, \"ABC\", rotation),getMeanFitnessData(problem, mutation, \"FFA\", rotation))\n",
    "    rotation = \"SIX\"\n",
    "    print(rotation,getMeanFitnessData(problem, mutation, \"GA\", rotation),getMeanFitnessData(problem, mutation, \"ABC\", rotation),getMeanFitnessData(problem, mutation, \"FFA\", rotation))\n",
    "    mutation = \"C1Mutation\"\n",
    "    print(mutation)\n",
    "    rotation = \"ZERO\"\n",
    "    print(rotation,getMeanFitnessData(problem, mutation, \"GA\", rotation),getMeanFitnessData(problem, mutation, \"ABC\", rotation),getMeanFitnessData(problem, mutation, \"FFA\", rotation))\n",
    "    rotation = \"TWO\"\n",
    "    print(rotation,getMeanFitnessData(problem, mutation, \"GA\", rotation),getMeanFitnessData(problem, mutation, \"ABC\", rotation),getMeanFitnessData(problem, mutation, \"FFA\", rotation))\n",
    "    rotation = \"SIX\"\n",
    "    print(rotation,getMeanFitnessData(problem, mutation, \"GA\", rotation),getMeanFitnessData(problem, mutation, \"ABC\", rotation),getMeanFitnessData(problem, mutation, \"FFA\", rotation))\n",
    "    mutation = \"C2Mutation\"\n",
    "    print(mutation)\n",
    "    rotation = \"ZERO\"\n",
    "    print(rotation,getMeanFitnessData(problem, mutation, \"GA\", rotation),getMeanFitnessData(problem, mutation, \"ABC\", rotation),getMeanFitnessData(problem, mutation, \"FFA\", rotation))\n",
    "    rotation = \"TWO\"\n",
    "    print(rotation,getMeanFitnessData(problem, mutation, \"GA\", rotation),getMeanFitnessData(problem, mutation, \"ABC\", rotation),getMeanFitnessData(problem, mutation, \"FFA\", rotation))\n",
    "    rotation = \"SIX\"\n",
    "    print(rotation,getMeanFitnessData(problem, mutation, \"GA\", rotation),getMeanFitnessData(problem, mutation, \"ABC\", rotation),getMeanFitnessData(problem, mutation, \"FFA\", rotation))"
   ]
  },
  {
   "cell_type": "code",
   "execution_count": 5,
   "metadata": {},
   "outputs": [
    {
     "name": "stdout",
     "output_type": "stream",
     "text": [
      "InverseMutation\n",
      "ZERO 110.77 32.56 318.88\n",
      "TWO 2260.49 1515.46 3070.02\n",
      "SIX 516.57 5208.89 6659.43\n",
      "C1Mutation\n",
      "ZERO 200.57 1374.52 4516.46\n",
      "TWO 2275.0 4098.53 5204.42\n",
      "SIX 158.13 5952.07 7189.05\n",
      "C2Mutation\n",
      "ZERO 236.46 47.56 53.93\n",
      "TWO 2275.76 1901.01 2826.52\n",
      "SIX 148.8 5624.98 6907.08\n",
      "-----------------\n",
      "InverseMutation\n",
      "ZERO 1.0 0.84 0.999675\n",
      "TWO 0.9969725 0.9992799 0.99706244\n",
      "SIX 0.088152505 0.9810126 0.9702976\n",
      "C1Mutation\n",
      "ZERO 1.0 0.99913126 0.96883863\n",
      "TWO 0.9982613 0.99045503 0.98476374\n",
      "SIX 1.0 0.9680263 0.9640862\n",
      "C2Mutation\n",
      "ZERO 1.0 1.0 1.0\n",
      "TWO 0.9989025 0.999015 0.9993325\n",
      "SIX 1.0 0.98017997 0.9737725\n"
     ]
    }
   ],
   "source": [
    "printTimeProblem(\"P1A2\")\n",
    "print(\"-----------------\")\n",
    "printFitnessByProblem(\"P1A2\")"
   ]
  },
  {
   "cell_type": "code",
   "execution_count": 6,
   "metadata": {},
   "outputs": [
    {
     "name": "stdout",
     "output_type": "stream",
     "text": [
      "InverseMutation\n",
      "ZERO 9155.11 11155.83 12623.27\n",
      "TWO 18802.69 15850.51 17922.19\n",
      "SIX 9824.09 15839.5 17782.68\n",
      "C1Mutation\n",
      "ZERO 10016.4 16937.77 18209.16\n",
      "TWO 18822.2 16103.47 18749.43\n",
      "SIX 8984.6 16911.97 20749.21\n",
      "C2Mutation\n",
      "ZERO 9149.97 5137.07 6671.96\n",
      "TWO 21582.14 17232.13 19626.68\n",
      "SIX 8345.09 18241.59 19863.12\n",
      "-----------------\n",
      "InverseMutation\n",
      "ZERO 0.9979241 0.9941976 0.9946788\n",
      "TWO 0.9867939 0.98163015 0.9807169\n",
      "SIX 0.99850273 0.9506848 0.9445014\n",
      "C1Mutation\n",
      "ZERO 0.99730545 0.97628975 0.92769885\n",
      "TWO 0.98559296 0.9673051 0.9577167\n",
      "SIX 0.9979073 0.9509808 0.93160737\n",
      "C2Mutation\n",
      "ZERO 0.9988913 0.9991989 0.9988629\n",
      "TWO 0.9838421 0.9855362 0.98566365\n",
      "SIX 0.9978874 0.95767343 0.9485666\n"
     ]
    }
   ],
   "source": [
    "printTimeProblem(\"P2A2\")\n",
    "print(\"-----------------\")\n",
    "printFitnessByProblem(\"P2A2\")"
   ]
  },
  {
   "cell_type": "code",
   "execution_count": 9,
   "metadata": {},
   "outputs": [
    {
     "name": "stdout",
     "output_type": "stream",
     "text": [
      "InverseMutation\n",
      "ZERO 106882.22 101664.8 105738.73\n",
      "TWO 108647.33 103768.35 108176.62\n"
     ]
    },
    {
     "ename": "FileNotFoundError",
     "evalue": "[Errno 2] No such file or directory: 'Results/P3A2/InverseMutation/GA/SIX/t.csv'",
     "output_type": "error",
     "traceback": [
      "\u001b[1;31m---------------------------------------------------------------------------\u001b[0m",
      "\u001b[1;31mFileNotFoundError\u001b[0m                         Traceback (most recent call last)",
      "Cell \u001b[1;32mIn[9], line 1\u001b[0m\n\u001b[1;32m----> 1\u001b[0m printTimeProblem(\u001b[39m\"\u001b[39;49m\u001b[39mP3A2\u001b[39;49m\u001b[39m\"\u001b[39;49m)\n\u001b[0;32m      2\u001b[0m \u001b[39mprint\u001b[39m(\u001b[39m\"\u001b[39m\u001b[39m-----------------\u001b[39m\u001b[39m\"\u001b[39m)\n\u001b[0;32m      3\u001b[0m printFitnessByProblem(\u001b[39m\"\u001b[39m\u001b[39mP3A2\u001b[39m\u001b[39m\"\u001b[39m)\n",
      "Cell \u001b[1;32mIn[4], line 9\u001b[0m, in \u001b[0;36mprintTimeProblem\u001b[1;34m(problem)\u001b[0m\n\u001b[0;32m      7\u001b[0m \u001b[39mprint\u001b[39m(rotation,getMeanTimeData(problem, mutation, \u001b[39m\"\u001b[39m\u001b[39mGA\u001b[39m\u001b[39m\"\u001b[39m, rotation),getMeanTimeData(problem, mutation, \u001b[39m\"\u001b[39m\u001b[39mABC\u001b[39m\u001b[39m\"\u001b[39m, rotation),getMeanTimeData(problem, mutation, \u001b[39m\"\u001b[39m\u001b[39mFFA\u001b[39m\u001b[39m\"\u001b[39m, rotation))\n\u001b[0;32m      8\u001b[0m rotation \u001b[39m=\u001b[39m \u001b[39m\"\u001b[39m\u001b[39mSIX\u001b[39m\u001b[39m\"\u001b[39m\n\u001b[1;32m----> 9\u001b[0m \u001b[39mprint\u001b[39m(rotation,getMeanTimeData(problem, mutation, \u001b[39m\"\u001b[39;49m\u001b[39mGA\u001b[39;49m\u001b[39m\"\u001b[39;49m, rotation),getMeanTimeData(problem, mutation, \u001b[39m\"\u001b[39m\u001b[39mABC\u001b[39m\u001b[39m\"\u001b[39m, rotation),getMeanTimeData(problem, mutation, \u001b[39m\"\u001b[39m\u001b[39mFFA\u001b[39m\u001b[39m\"\u001b[39m, rotation))\n\u001b[0;32m     10\u001b[0m mutation \u001b[39m=\u001b[39m \u001b[39m\"\u001b[39m\u001b[39mC1Mutation\u001b[39m\u001b[39m\"\u001b[39m\n\u001b[0;32m     11\u001b[0m \u001b[39mprint\u001b[39m(mutation)\n",
      "Cell \u001b[1;32mIn[3], line 2\u001b[0m, in \u001b[0;36mgetMeanTimeData\u001b[1;34m(problem, mutationType, algorithm, rotation)\u001b[0m\n\u001b[0;32m      1\u001b[0m \u001b[39mdef\u001b[39;00m \u001b[39mgetMeanTimeData\u001b[39m(problem, mutationType, algorithm, rotation):\n\u001b[1;32m----> 2\u001b[0m     data \u001b[39m=\u001b[39m np\u001b[39m.\u001b[39msqueeze(np\u001b[39m.\u001b[39masarray(pd\u001b[39m.\u001b[39;49mread_csv(\u001b[39m\"\u001b[39;49m\u001b[39mResults/\u001b[39;49m\u001b[39m\"\u001b[39;49m\u001b[39m+\u001b[39;49mproblem\u001b[39m+\u001b[39;49m\u001b[39m\"\u001b[39;49m\u001b[39m/\u001b[39;49m\u001b[39m\"\u001b[39;49m\u001b[39m+\u001b[39;49mmutationType\u001b[39m+\u001b[39;49m\u001b[39m\"\u001b[39;49m\u001b[39m/\u001b[39;49m\u001b[39m\"\u001b[39;49m\u001b[39m+\u001b[39;49malgorithm\u001b[39m+\u001b[39;49m\u001b[39m\"\u001b[39;49m\u001b[39m/\u001b[39;49m\u001b[39m\"\u001b[39;49m\u001b[39m+\u001b[39;49mrotation\u001b[39m+\u001b[39;49m\u001b[39m\"\u001b[39;49m\u001b[39m/t.csv\u001b[39;49m\u001b[39m\"\u001b[39;49m,sep\u001b[39m=\u001b[39;49m\u001b[39m\"\u001b[39;49m\u001b[39m \u001b[39;49m\u001b[39m\"\u001b[39;49m,header\u001b[39m=\u001b[39;49m\u001b[39mNone\u001b[39;49;00m), dtype\u001b[39m=\u001b[39mnp\u001b[39m.\u001b[39mint64))\n\u001b[0;32m      3\u001b[0m     \u001b[39mreturn\u001b[39;00m np\u001b[39m.\u001b[39mmean(data)\n",
      "File \u001b[1;32mc:\\Users\\nicoo\\anaconda3\\lib\\site-packages\\pandas\\util\\_decorators.py:211\u001b[0m, in \u001b[0;36mdeprecate_kwarg.<locals>._deprecate_kwarg.<locals>.wrapper\u001b[1;34m(*args, **kwargs)\u001b[0m\n\u001b[0;32m    209\u001b[0m     \u001b[39melse\u001b[39;00m:\n\u001b[0;32m    210\u001b[0m         kwargs[new_arg_name] \u001b[39m=\u001b[39m new_arg_value\n\u001b[1;32m--> 211\u001b[0m \u001b[39mreturn\u001b[39;00m func(\u001b[39m*\u001b[39margs, \u001b[39m*\u001b[39m\u001b[39m*\u001b[39mkwargs)\n",
      "File \u001b[1;32mc:\\Users\\nicoo\\anaconda3\\lib\\site-packages\\pandas\\util\\_decorators.py:331\u001b[0m, in \u001b[0;36mdeprecate_nonkeyword_arguments.<locals>.decorate.<locals>.wrapper\u001b[1;34m(*args, **kwargs)\u001b[0m\n\u001b[0;32m    325\u001b[0m \u001b[39mif\u001b[39;00m \u001b[39mlen\u001b[39m(args) \u001b[39m>\u001b[39m num_allow_args:\n\u001b[0;32m    326\u001b[0m     warnings\u001b[39m.\u001b[39mwarn(\n\u001b[0;32m    327\u001b[0m         msg\u001b[39m.\u001b[39mformat(arguments\u001b[39m=\u001b[39m_format_argument_list(allow_args)),\n\u001b[0;32m    328\u001b[0m         \u001b[39mFutureWarning\u001b[39;00m,\n\u001b[0;32m    329\u001b[0m         stacklevel\u001b[39m=\u001b[39mfind_stack_level(),\n\u001b[0;32m    330\u001b[0m     )\n\u001b[1;32m--> 331\u001b[0m \u001b[39mreturn\u001b[39;00m func(\u001b[39m*\u001b[39margs, \u001b[39m*\u001b[39m\u001b[39m*\u001b[39mkwargs)\n",
      "File \u001b[1;32mc:\\Users\\nicoo\\anaconda3\\lib\\site-packages\\pandas\\io\\parsers\\readers.py:950\u001b[0m, in \u001b[0;36mread_csv\u001b[1;34m(filepath_or_buffer, sep, delimiter, header, names, index_col, usecols, squeeze, prefix, mangle_dupe_cols, dtype, engine, converters, true_values, false_values, skipinitialspace, skiprows, skipfooter, nrows, na_values, keep_default_na, na_filter, verbose, skip_blank_lines, parse_dates, infer_datetime_format, keep_date_col, date_parser, dayfirst, cache_dates, iterator, chunksize, compression, thousands, decimal, lineterminator, quotechar, quoting, doublequote, escapechar, comment, encoding, encoding_errors, dialect, error_bad_lines, warn_bad_lines, on_bad_lines, delim_whitespace, low_memory, memory_map, float_precision, storage_options)\u001b[0m\n\u001b[0;32m    935\u001b[0m kwds_defaults \u001b[39m=\u001b[39m _refine_defaults_read(\n\u001b[0;32m    936\u001b[0m     dialect,\n\u001b[0;32m    937\u001b[0m     delimiter,\n\u001b[1;32m   (...)\u001b[0m\n\u001b[0;32m    946\u001b[0m     defaults\u001b[39m=\u001b[39m{\u001b[39m\"\u001b[39m\u001b[39mdelimiter\u001b[39m\u001b[39m\"\u001b[39m: \u001b[39m\"\u001b[39m\u001b[39m,\u001b[39m\u001b[39m\"\u001b[39m},\n\u001b[0;32m    947\u001b[0m )\n\u001b[0;32m    948\u001b[0m kwds\u001b[39m.\u001b[39mupdate(kwds_defaults)\n\u001b[1;32m--> 950\u001b[0m \u001b[39mreturn\u001b[39;00m _read(filepath_or_buffer, kwds)\n",
      "File \u001b[1;32mc:\\Users\\nicoo\\anaconda3\\lib\\site-packages\\pandas\\io\\parsers\\readers.py:605\u001b[0m, in \u001b[0;36m_read\u001b[1;34m(filepath_or_buffer, kwds)\u001b[0m\n\u001b[0;32m    602\u001b[0m _validate_names(kwds\u001b[39m.\u001b[39mget(\u001b[39m\"\u001b[39m\u001b[39mnames\u001b[39m\u001b[39m\"\u001b[39m, \u001b[39mNone\u001b[39;00m))\n\u001b[0;32m    604\u001b[0m \u001b[39m# Create the parser.\u001b[39;00m\n\u001b[1;32m--> 605\u001b[0m parser \u001b[39m=\u001b[39m TextFileReader(filepath_or_buffer, \u001b[39m*\u001b[39m\u001b[39m*\u001b[39mkwds)\n\u001b[0;32m    607\u001b[0m \u001b[39mif\u001b[39;00m chunksize \u001b[39mor\u001b[39;00m iterator:\n\u001b[0;32m    608\u001b[0m     \u001b[39mreturn\u001b[39;00m parser\n",
      "File \u001b[1;32mc:\\Users\\nicoo\\anaconda3\\lib\\site-packages\\pandas\\io\\parsers\\readers.py:1442\u001b[0m, in \u001b[0;36mTextFileReader.__init__\u001b[1;34m(self, f, engine, **kwds)\u001b[0m\n\u001b[0;32m   1439\u001b[0m     \u001b[39mself\u001b[39m\u001b[39m.\u001b[39moptions[\u001b[39m\"\u001b[39m\u001b[39mhas_index_names\u001b[39m\u001b[39m\"\u001b[39m] \u001b[39m=\u001b[39m kwds[\u001b[39m\"\u001b[39m\u001b[39mhas_index_names\u001b[39m\u001b[39m\"\u001b[39m]\n\u001b[0;32m   1441\u001b[0m \u001b[39mself\u001b[39m\u001b[39m.\u001b[39mhandles: IOHandles \u001b[39m|\u001b[39m \u001b[39mNone\u001b[39;00m \u001b[39m=\u001b[39m \u001b[39mNone\u001b[39;00m\n\u001b[1;32m-> 1442\u001b[0m \u001b[39mself\u001b[39m\u001b[39m.\u001b[39m_engine \u001b[39m=\u001b[39m \u001b[39mself\u001b[39;49m\u001b[39m.\u001b[39;49m_make_engine(f, \u001b[39mself\u001b[39;49m\u001b[39m.\u001b[39;49mengine)\n",
      "File \u001b[1;32mc:\\Users\\nicoo\\anaconda3\\lib\\site-packages\\pandas\\io\\parsers\\readers.py:1735\u001b[0m, in \u001b[0;36mTextFileReader._make_engine\u001b[1;34m(self, f, engine)\u001b[0m\n\u001b[0;32m   1733\u001b[0m     \u001b[39mif\u001b[39;00m \u001b[39m\"\u001b[39m\u001b[39mb\u001b[39m\u001b[39m\"\u001b[39m \u001b[39mnot\u001b[39;00m \u001b[39min\u001b[39;00m mode:\n\u001b[0;32m   1734\u001b[0m         mode \u001b[39m+\u001b[39m\u001b[39m=\u001b[39m \u001b[39m\"\u001b[39m\u001b[39mb\u001b[39m\u001b[39m\"\u001b[39m\n\u001b[1;32m-> 1735\u001b[0m \u001b[39mself\u001b[39m\u001b[39m.\u001b[39mhandles \u001b[39m=\u001b[39m get_handle(\n\u001b[0;32m   1736\u001b[0m     f,\n\u001b[0;32m   1737\u001b[0m     mode,\n\u001b[0;32m   1738\u001b[0m     encoding\u001b[39m=\u001b[39;49m\u001b[39mself\u001b[39;49m\u001b[39m.\u001b[39;49moptions\u001b[39m.\u001b[39;49mget(\u001b[39m\"\u001b[39;49m\u001b[39mencoding\u001b[39;49m\u001b[39m\"\u001b[39;49m, \u001b[39mNone\u001b[39;49;00m),\n\u001b[0;32m   1739\u001b[0m     compression\u001b[39m=\u001b[39;49m\u001b[39mself\u001b[39;49m\u001b[39m.\u001b[39;49moptions\u001b[39m.\u001b[39;49mget(\u001b[39m\"\u001b[39;49m\u001b[39mcompression\u001b[39;49m\u001b[39m\"\u001b[39;49m, \u001b[39mNone\u001b[39;49;00m),\n\u001b[0;32m   1740\u001b[0m     memory_map\u001b[39m=\u001b[39;49m\u001b[39mself\u001b[39;49m\u001b[39m.\u001b[39;49moptions\u001b[39m.\u001b[39;49mget(\u001b[39m\"\u001b[39;49m\u001b[39mmemory_map\u001b[39;49m\u001b[39m\"\u001b[39;49m, \u001b[39mFalse\u001b[39;49;00m),\n\u001b[0;32m   1741\u001b[0m     is_text\u001b[39m=\u001b[39;49mis_text,\n\u001b[0;32m   1742\u001b[0m     errors\u001b[39m=\u001b[39;49m\u001b[39mself\u001b[39;49m\u001b[39m.\u001b[39;49moptions\u001b[39m.\u001b[39;49mget(\u001b[39m\"\u001b[39;49m\u001b[39mencoding_errors\u001b[39;49m\u001b[39m\"\u001b[39;49m, \u001b[39m\"\u001b[39;49m\u001b[39mstrict\u001b[39;49m\u001b[39m\"\u001b[39;49m),\n\u001b[0;32m   1743\u001b[0m     storage_options\u001b[39m=\u001b[39;49m\u001b[39mself\u001b[39;49m\u001b[39m.\u001b[39;49moptions\u001b[39m.\u001b[39;49mget(\u001b[39m\"\u001b[39;49m\u001b[39mstorage_options\u001b[39;49m\u001b[39m\"\u001b[39;49m, \u001b[39mNone\u001b[39;49;00m),\n\u001b[0;32m   1744\u001b[0m )\n\u001b[0;32m   1745\u001b[0m \u001b[39massert\u001b[39;00m \u001b[39mself\u001b[39m\u001b[39m.\u001b[39mhandles \u001b[39mis\u001b[39;00m \u001b[39mnot\u001b[39;00m \u001b[39mNone\u001b[39;00m\n\u001b[0;32m   1746\u001b[0m f \u001b[39m=\u001b[39m \u001b[39mself\u001b[39m\u001b[39m.\u001b[39mhandles\u001b[39m.\u001b[39mhandle\n",
      "File \u001b[1;32mc:\\Users\\nicoo\\anaconda3\\lib\\site-packages\\pandas\\io\\common.py:856\u001b[0m, in \u001b[0;36mget_handle\u001b[1;34m(path_or_buf, mode, encoding, compression, memory_map, is_text, errors, storage_options)\u001b[0m\n\u001b[0;32m    851\u001b[0m \u001b[39melif\u001b[39;00m \u001b[39misinstance\u001b[39m(handle, \u001b[39mstr\u001b[39m):\n\u001b[0;32m    852\u001b[0m     \u001b[39m# Check whether the filename is to be opened in binary mode.\u001b[39;00m\n\u001b[0;32m    853\u001b[0m     \u001b[39m# Binary mode does not support 'encoding' and 'newline'.\u001b[39;00m\n\u001b[0;32m    854\u001b[0m     \u001b[39mif\u001b[39;00m ioargs\u001b[39m.\u001b[39mencoding \u001b[39mand\u001b[39;00m \u001b[39m\"\u001b[39m\u001b[39mb\u001b[39m\u001b[39m\"\u001b[39m \u001b[39mnot\u001b[39;00m \u001b[39min\u001b[39;00m ioargs\u001b[39m.\u001b[39mmode:\n\u001b[0;32m    855\u001b[0m         \u001b[39m# Encoding\u001b[39;00m\n\u001b[1;32m--> 856\u001b[0m         handle \u001b[39m=\u001b[39m \u001b[39mopen\u001b[39;49m(\n\u001b[0;32m    857\u001b[0m             handle,\n\u001b[0;32m    858\u001b[0m             ioargs\u001b[39m.\u001b[39;49mmode,\n\u001b[0;32m    859\u001b[0m             encoding\u001b[39m=\u001b[39;49mioargs\u001b[39m.\u001b[39;49mencoding,\n\u001b[0;32m    860\u001b[0m             errors\u001b[39m=\u001b[39;49merrors,\n\u001b[0;32m    861\u001b[0m             newline\u001b[39m=\u001b[39;49m\u001b[39m\"\u001b[39;49m\u001b[39m\"\u001b[39;49m,\n\u001b[0;32m    862\u001b[0m         )\n\u001b[0;32m    863\u001b[0m     \u001b[39melse\u001b[39;00m:\n\u001b[0;32m    864\u001b[0m         \u001b[39m# Binary mode\u001b[39;00m\n\u001b[0;32m    865\u001b[0m         handle \u001b[39m=\u001b[39m \u001b[39mopen\u001b[39m(handle, ioargs\u001b[39m.\u001b[39mmode)\n",
      "\u001b[1;31mFileNotFoundError\u001b[0m: [Errno 2] No such file or directory: 'Results/P3A2/InverseMutation/GA/SIX/t.csv'"
     ]
    }
   ],
   "source": [
    "printTimeProblem(\"P3A2\")\n",
    "print(\"-----------------\")\n",
    "printFitnessByProblem(\"P3A2\")"
   ]
  },
  {
   "cell_type": "code",
   "execution_count": 8,
   "metadata": {},
   "outputs": [
    {
     "name": "stdout",
     "output_type": "stream",
     "text": [
      "InverseMutation\n",
      "ZERO 625851.6 634469.78 643391.35\n",
      "TWO 622323.55 637727.48 644954.76\n",
      "SIX 621010.19 636862.96 646539.17\n",
      "C1Mutation\n",
      "ZERO 642524.3 650119.45 649649.28\n",
      "TWO 640279.33 655398.4 648299.63\n",
      "SIX 642050.42 653197.61 648136.9\n",
      "C2Mutation\n",
      "ZERO 627751.59 634799.36 642406.43\n",
      "TWO 628251.77 636273.25 643157.73\n",
      "SIX 626367.61 636133.25 643248.8\n",
      "-----------------\n",
      "InverseMutation\n",
      "ZERO 0.9595381 0.9516258 0.9482441\n",
      "TWO 0.9569215 0.95032585 0.9494468\n",
      "SIX 0.9565661 0.95151705 0.9493642\n",
      "C1Mutation\n",
      "ZERO 0.9592906 0.89843035 0.8672276\n",
      "TWO 0.9590964 0.8978682 0.86806023\n",
      "SIX 0.9562052 0.8990909 0.8666403\n",
      "C2Mutation\n",
      "ZERO 0.95919573 0.95828736 0.9525343\n",
      "TWO 0.9573637 0.958638 0.95228803\n",
      "SIX 0.9577817 0.96104485 0.9516132\n"
     ]
    }
   ],
   "source": [
    "printTimeProblem(\"P4A2\")\n",
    "print(\"-----------------\")\n",
    "printFitnessByProblem(\"P4A2\")"
   ]
  },
  {
   "cell_type": "code",
   "execution_count": null,
   "metadata": {},
   "outputs": [],
   "source": []
  }
 ],
 "metadata": {
  "kernelspec": {
   "display_name": "Python 3.9.12 ('base')",
   "language": "python",
   "name": "python3"
  },
  "language_info": {
   "codemirror_mode": {
    "name": "ipython",
    "version": 3
   },
   "file_extension": ".py",
   "mimetype": "text/x-python",
   "name": "python",
   "nbconvert_exporter": "python",
   "pygments_lexer": "ipython3",
   "version": "3.10.9"
  },
  "vscode": {
   "interpreter": {
    "hash": "c9548d78abac3d9c949fbd3fd187a460132993a1944635464947e6b8db26d483"
   }
  }
 },
 "nbformat": 4,
 "nbformat_minor": 2
}
